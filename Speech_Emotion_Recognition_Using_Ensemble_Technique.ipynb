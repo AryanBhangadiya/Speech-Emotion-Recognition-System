{
  "nbformat": 4,
  "nbformat_minor": 0,
  "metadata": {
    "colab": {
      "provenance": []
    },
    "kernelspec": {
      "name": "python3",
      "display_name": "Python 3"
    },
    "language_info": {
      "name": "python"
    }
  },
  "cells": [
    {
      "cell_type": "code",
      "source": [
        "from google.colab import drive\n",
        "drive.mount('/content/drive')"
      ],
      "metadata": {
        "colab": {
          "base_uri": "https://localhost:8080/"
        },
        "id": "fXgpN3HhH1VW",
        "outputId": "64aeb2c8-8644-4c56-c3d0-49a15f7c3f6e"
      },
      "execution_count": null,
      "outputs": [
        {
          "output_type": "stream",
          "name": "stdout",
          "text": [
            "Mounted at /content/drive\n"
          ]
        }
      ]
    },
    {
      "cell_type": "code",
      "source": [
        "# Import All Important Libraries\n",
        "import librosa\n",
        "import soundfile\n",
        "import os, glob, pickle\n",
        "import numpy as np\n",
        "from sklearn.ensemble import RandomForestClassifier, VotingClassifier\n",
        "from sklearn.svm import SVC\n",
        "from sklearn.neighbors import KNeighborsClassifier\n",
        "from sklearn.metrics import accuracy_score\n",
        "from sklearn.pipeline import Pipeline\n",
        "from sklearn.preprocessing import StandardScaler\n",
        "from sklearn.feature_selection import RFE\n",
        "from sklearn.neural_network import MLPClassifier\n",
        "import matplotlib.pyplot as plt\n",
        "import seaborn as sns\n",
        "from sklearn.metrics import confusion_matrix"
      ],
      "metadata": {
        "id": "q6pmo4UwW8W2"
      },
      "execution_count": null,
      "outputs": []
    },
    {
      "cell_type": "markdown",
      "source": [
        "###**Feature Extraction Function**"
      ],
      "metadata": {
        "id": "vGzVEOxNu9PQ"
      }
    },
    {
      "cell_type": "code",
      "source": [
        "# function for extracting mfcc, pitch, and rms features from sound file\n",
        "def extract_feature(file_name, mfcc, pitch, rms):\n",
        "    with soundfile.SoundFile(file_name) as sound_file:\n",
        "        X = sound_file.read(dtype=\"float32\")\n",
        "        sample_rate = sound_file.samplerate\n",
        "        result = []\n",
        "        if mfcc:\n",
        "            mfccs = librosa.feature.mfcc(y=X, sr=sample_rate, n_mfcc=40)\n",
        "            if mfccs.size > 0:\n",
        "                mfccs = np.mean(mfccs.T, axis=0)\n",
        "                mfccs = np.pad(mfccs, (0, 40 - len(mfccs)), mode='constant')\n",
        "                result.append(mfccs)\n",
        "        if pitch:\n",
        "            f0, voiced_flag, voiced_probs = librosa.pyin(y=X, sr=sample_rate, fmin=librosa.note_to_hz('C2'), fmax=librosa.note_to_hz('C7'))\n",
        "            if np.any(voiced_flag):\n",
        "                pitch_mean = np.mean(f0[voiced_flag])\n",
        "                pitch_std = np.std(f0[voiced_flag])\n",
        "                if np.isnan(pitch_mean) or np.isnan(pitch_std):\n",
        "                    return None\n",
        "                pitch = np.array([pitch_mean, pitch_std])\n",
        "                pitch = np.pad(pitch, (0, 2 - len(pitch)), mode='constant')\n",
        "                result.append(pitch)\n",
        "\n",
        "        if rms:\n",
        "            rms = librosa.feature.rms(y=X)\n",
        "            if rms.size > 0:\n",
        "                rms = np.mean(rms.T, axis=0)\n",
        "                rms = np.pad(rms, (0, 1 - len(rms)), mode='constant')\n",
        "                result.append(rms)\n",
        "\n",
        "    return np.concatenate(result)"
      ],
      "metadata": {
        "id": "4loxI5ztXATl"
      },
      "execution_count": null,
      "outputs": []
    },
    {
      "cell_type": "markdown",
      "source": [
        "###**Loading Dataset for Training and Feature Extraction**"
      ],
      "metadata": {
        "id": "816LBZLU-2Zx"
      }
    },
    {
      "cell_type": "code",
      "source": [
        "# Define the motions dictionary\n",
        "emotions = {\n",
        "    '01': 'neutral',\n",
        "    '02': 'calm',\n",
        "    '03': 'happy',\n",
        "    '04': 'sad',\n",
        "    '05': 'angry',\n",
        "    '06': 'fearful',\n",
        "    '07': 'disgust',\n",
        "    '08': 'surprised'\n",
        "}\n",
        "\n",
        "# Emotions we want to observe\n",
        "observed_emotions = ['sad', 'angry', 'fearful', 'surprised']\n",
        "\n",
        "# Load the data and extract features for each sound file\n",
        "def load_data():\n",
        "    x, y = [], []\n",
        "    for folder in glob.glob('/content/drive/MyDrive/Dataset_Speech_Emotion_Recognition/speech-emotion-recognition-ravdess-data/Actor_' + '*'):\n",
        "        print(folder)\n",
        "        for file in glob.glob(folder + '/*.wav'):\n",
        "            file_name = os.path.basename(file)\n",
        "            emotion = emotions[file_name.split('-')[2]]\n",
        "            if emotion not in observed_emotions:\n",
        "                continue\n",
        "            # FEATURE EXTRACTION\n",
        "            feature = extract_feature(file, mfcc=True, pitch=True, rms=True)\n",
        "            if feature is not None:\n",
        "                x.append(feature)\n",
        "                y.append(emotion)\n",
        "\n",
        "    max_len = max(len(l) for l in x)\n",
        "    x = [np.pad(l, pad_width=(0, max_len - len(l)), mode='constant') for l in x]\n",
        "\n",
        "    # convert x to a 2D array of numeric values\n",
        "    x = np.vstack(x)\n",
        "\n",
        "    return np.array(x, dtype=object), np.array(y, dtype=object)\n",
        "\n",
        "\n",
        "# Load the data and get the features and emotions respectively\n",
        "x, y = load_data()\n",
        "\n",
        "# Print shape of loaded data and number of features extracted\n",
        "print(f'Data shape: {x.shape}')\n",
        "print(f'Features extracted: {x[0].shape[0]}')\n"
      ],
      "metadata": {
        "colab": {
          "base_uri": "https://localhost:8080/"
        },
        "id": "b2oc67vwXSiT",
        "outputId": "fa3188b4-6d71-4d4f-9f02-e414fa84c1c5"
      },
      "execution_count": null,
      "outputs": [
        {
          "output_type": "stream",
          "name": "stdout",
          "text": [
            "/content/drive/MyDrive/Dataset_Speech_Emotion_Recognition/speech-emotion-recognition-ravdess-data/Actor_18\n",
            "/content/drive/MyDrive/Dataset_Speech_Emotion_Recognition/speech-emotion-recognition-ravdess-data/Actor_19\n",
            "/content/drive/MyDrive/Dataset_Speech_Emotion_Recognition/speech-emotion-recognition-ravdess-data/Actor_16\n",
            "/content/drive/MyDrive/Dataset_Speech_Emotion_Recognition/speech-emotion-recognition-ravdess-data/Actor_23\n",
            "/content/drive/MyDrive/Dataset_Speech_Emotion_Recognition/speech-emotion-recognition-ravdess-data/Actor_21\n",
            "/content/drive/MyDrive/Dataset_Speech_Emotion_Recognition/speech-emotion-recognition-ravdess-data/Actor_20\n",
            "/content/drive/MyDrive/Dataset_Speech_Emotion_Recognition/speech-emotion-recognition-ravdess-data/Actor_17\n",
            "/content/drive/MyDrive/Dataset_Speech_Emotion_Recognition/speech-emotion-recognition-ravdess-data/Actor_22\n",
            "/content/drive/MyDrive/Dataset_Speech_Emotion_Recognition/speech-emotion-recognition-ravdess-data/Actor_24\n",
            "/content/drive/MyDrive/Dataset_Speech_Emotion_Recognition/speech-emotion-recognition-ravdess-data/Actor_09\n",
            "/content/drive/MyDrive/Dataset_Speech_Emotion_Recognition/speech-emotion-recognition-ravdess-data/Actor_06\n",
            "/content/drive/MyDrive/Dataset_Speech_Emotion_Recognition/speech-emotion-recognition-ravdess-data/Actor_12\n",
            "/content/drive/MyDrive/Dataset_Speech_Emotion_Recognition/speech-emotion-recognition-ravdess-data/Actor_14\n",
            "/content/drive/MyDrive/Dataset_Speech_Emotion_Recognition/speech-emotion-recognition-ravdess-data/Actor_11\n",
            "/content/drive/MyDrive/Dataset_Speech_Emotion_Recognition/speech-emotion-recognition-ravdess-data/Actor_13\n",
            "/content/drive/MyDrive/Dataset_Speech_Emotion_Recognition/speech-emotion-recognition-ravdess-data/Actor_07\n",
            "/content/drive/MyDrive/Dataset_Speech_Emotion_Recognition/speech-emotion-recognition-ravdess-data/Actor_10\n",
            "/content/drive/MyDrive/Dataset_Speech_Emotion_Recognition/speech-emotion-recognition-ravdess-data/Actor_05\n",
            "/content/drive/MyDrive/Dataset_Speech_Emotion_Recognition/speech-emotion-recognition-ravdess-data/Actor_08\n",
            "/content/drive/MyDrive/Dataset_Speech_Emotion_Recognition/speech-emotion-recognition-ravdess-data/Actor_04\n",
            "/content/drive/MyDrive/Dataset_Speech_Emotion_Recognition/speech-emotion-recognition-ravdess-data/Actor_01\n",
            "/content/drive/MyDrive/Dataset_Speech_Emotion_Recognition/speech-emotion-recognition-ravdess-data/Actor_02\n",
            "/content/drive/MyDrive/Dataset_Speech_Emotion_Recognition/speech-emotion-recognition-ravdess-data/Actor_03\n",
            "/content/drive/MyDrive/Dataset_Speech_Emotion_Recognition/speech-emotion-recognition-ravdess-data/Actor_15\n",
            "Data shape: (768, 43)\n",
            "Features extracted: 43\n"
          ]
        }
      ]
    },
    {
      "cell_type": "markdown",
      "source": [
        "###**Graph for loaded dataset w.r.t. emotions**"
      ],
      "metadata": {
        "id": "uxVQzD-q_J3q"
      }
    },
    {
      "cell_type": "code",
      "source": [
        "# Visualize distribution of emotions in the dataset\n",
        "unique_emotions, emotion_counts = np.unique(y, return_counts=True)\n",
        "plt.bar(unique_emotions, emotion_counts)\n",
        "plt.xlabel('Emotions')\n",
        "plt.ylabel('Count')\n",
        "plt.title('Distribution of Emotions in the Dataset')\n",
        "plt.show()"
      ],
      "metadata": {
        "colab": {
          "base_uri": "https://localhost:8080/",
          "height": 472
        },
        "id": "6qo4OxxqtJ2D",
        "outputId": "b1ffccd8-ed8f-4195-deb3-31463653ea66"
      },
      "execution_count": null,
      "outputs": [
        {
          "output_type": "display_data",
          "data": {
            "text/plain": [
              "<Figure size 640x480 with 1 Axes>"
            ],
            "image/png": "[encoded data removed]"
          },
          "metadata": {}
        }
      ]
    },
    {
      "cell_type": "markdown",
      "source": [
        "###**ENSEBMLE MODEL**"
      ],
      "metadata": {
        "id": "aZdXGCUSCVbt"
      }
    },
    {
      "cell_type": "code",
      "source": [
        "# create the pipeline\n",
        "pipeline = Pipeline([\n",
        "    ('scaler', StandardScaler()),\n",
        "    ('feature_selection', RFE(estimator=RandomForestClassifier(), n_features_to_select=37)),\n",
        "     ('classifier', VotingClassifier( estimators=[\n",
        "        ('rf', RandomForestClassifier(n_estimators=500, random_state=9)),\n",
        "        ('svc', SVC(kernel='linear', probability=True, random_state=9)),\n",
        "        ('knn', KNeighborsClassifier(n_neighbors=6)),\n",
        "        ('mlp', MLPClassifier(alpha=0.01, batch_size=256, hidden_layer_sizes=(700,), max_iter=500, learning_rate='adaptive', random_state=9))\n",
        "    ], voting='soft'))\n",
        "])\n",
        "\n",
        "\n",
        "# Fit the model to the training data\n",
        "pipeline.fit(x, y)"
      ],
      "metadata": {
        "id": "4iwR3drZW8aV",
        "colab": {
          "base_uri": "https://localhost:8080/",
          "height": 282
        },
        "outputId": "35482ebc-a8f9-4149-b1f2-2f57def421c3"
      },
      "execution_count": null,
      "outputs": [
        {
          "output_type": "execute_result",
          "data": {
            "text/plain": [
              "Pipeline(steps=[('scaler', StandardScaler()),\n",
              "                ('feature_selection',\n",
              "                 RFE(estimator=RandomForestClassifier(),\n",
              "                     n_features_to_select=37)),\n",
              "                ('classifier',\n",
              "                 VotingClassifier(estimators=[('rf',\n",
              "                                               RandomForestClassifier(n_estimators=500,\n",
              "                                                                      random_state=9)),\n",
              "                                              ('svc',\n",
              "                                               SVC(kernel='linear',\n",
              "                                                   probability=True,\n",
              "                                                   random_state=9)),\n",
              "                                              ('knn',\n",
              "                                               KNeighborsClassifier(n_neighbors=6)),\n",
              "                                              ('mlp',\n",
              "                                               MLPClassifier(alpha=0.01,\n",
              "                                                             batch_size=256,\n",
              "                                                             hidden_layer_sizes=(700,),\n",
              "                                                             learning_rate='adaptive',\n",
              "                                                             max_iter=500,\n",
              "                                                             random_state=9))],\n",
              "                                  voting='soft'))])"
            ],
            "text/html": [
              "<style>#sk-container-id-1 {color: black;background-color: white;}#sk-container-id-1 pre{padding: 0;}#sk-container-id-1 div.sk-toggleable {background-color: white;}#sk-container-id-1 label.sk-toggleable__label {cursor: pointer;display: block;width: 100%;margin-bottom: 0;padding: 0.3em;box-sizing: border-box;text-align: center;}#sk-container-id-1 label.sk-toggleable__label-arrow:before {content: \"▸\";float: left;margin-right: 0.25em;color: #696969;}#sk-container-id-1 label.sk-toggleable__label-arrow:hover:before {color: black;}#sk-container-id-1 div.sk-estimator:hover label.sk-toggleable__label-arrow:before {color: black;}#sk-container-id-1 div.sk-toggleable__content {max-height: 0;max-width: 0;overflow: hidden;text-align: left;background-color: #f0f8ff;}#sk-container-id-1 div.sk-toggleable__content pre {margin: 0.2em;color: black;border-radius: 0.25em;background-color: #f0f8ff;}#sk-container-id-1 input.sk-toggleable__control:checked~div.sk-toggleable__content {max-height: 200px;max-width: 100%;overflow: auto;}#sk-container-id-1 input.sk-toggleable__control:checked~label.sk-toggleable__label-arrow:before {content: \"▾\";}#sk-container-id-1 div.sk-estimator input.sk-toggleable__control:checked~label.sk-toggleable__label {background-color: #d4ebff;}#sk-container-id-1 div.sk-label input.sk-toggleable__control:checked~label.sk-toggleable__label {background-color: #d4ebff;}#sk-container-id-1 input.sk-hidden--visually {border: 0;clip: rect(1px 1px 1px 1px);clip: rect(1px, 1px, 1px, 1px);height: 1px;margin: -1px;overflow: hidden;padding: 0;position: absolute;width: 1px;}#sk-container-id-1 div.sk-estimator {font-family: monospace;background-color: #f0f8ff;border: 1px dotted black;border-radius: 0.25em;box-sizing: border-box;margin-bottom: 0.5em;}#sk-container-id-1 div.sk-estimator:hover {background-color: #d4ebff;}#sk-container-id-1 div.sk-parallel-item::after {content: \"\";width: 100%;border-bottom: 1px solid gray;flex-grow: 1;}#sk-container-id-1 div.sk-label:hover label.sk-toggleable__label {background-color: #d4ebff;}#sk-container-id-1 div.sk-serial::before {content: \"\";position: absolute;border-left: 1px solid gray;box-sizing: border-box;top: 0;bottom: 0;left: 50%;z-index: 0;}#sk-container-id-1 div.sk-serial {display: flex;flex-direction: column;align-items: center;background-color: white;padding-right: 0.2em;padding-left: 0.2em;position: relative;}#sk-container-id-1 div.sk-item {position: relative;z-index: 1;}#sk-container-id-1 div.sk-parallel {display: flex;align-items: stretch;justify-content: center;background-color: white;position: relative;}#sk-container-id-1 div.sk-item::before, #sk-container-id-1 div.sk-parallel-item::before {content: \"\";position: absolute;border-left: 1px solid gray;box-sizing: border-box;top: 0;bottom: 0;left: 50%;z-index: -1;}#sk-container-id-1 div.sk-parallel-item {display: flex;flex-direction: column;z-index: 1;position: relative;background-color: white;}#sk-container-id-1 div.sk-parallel-item:first-child::after {align-self: flex-end;width: 50%;}#sk-container-id-1 div.sk-parallel-item:last-child::after {align-self: flex-start;width: 50%;}#sk-container-id-1 div.sk-parallel-item:only-child::after {width: 0;}#sk-container-id-1 div.sk-dashed-wrapped {border: 1px dashed gray;margin: 0 0.4em 0.5em 0.4em;box-sizing: border-box;padding-bottom: 0.4em;background-color: white;}#sk-container-id-1 div.sk-label label {font-family: monospace;font-weight: bold;display: inline-block;line-height: 1.2em;}#sk-container-id-1 div.sk-label-container {text-align: center;}#sk-container-id-1 div.sk-container {/* jupyter's `normalize.less` sets `[hidden] { display: none; }` but bootstrap.min.css set `[hidden] { display: none !important; }` so we also need the `!important` here to be able to override the default hidden behavior on the sphinx rendered scikit-learn.org. See: https://github.com/scikit-learn/scikit-learn/issues/21755 */display: inline-block !important;position: relative;}#sk-container-id-1 div.sk-text-repr-fallback {display: none;}</style><div id=\"sk-container-id-1\" class=\"sk-top-container\"><div class=\"sk-text-repr-fallback\"><pre>Pipeline(steps=[(&#x27;scaler&#x27;, StandardScaler()),\n",
              "                (&#x27;feature_selection&#x27;,\n",
              "                 RFE(estimator=RandomForestClassifier(),\n",
              "                     n_features_to_select=37)),\n",
              "                (&#x27;classifier&#x27;,\n",
              "                 VotingClassifier(estimators=[(&#x27;rf&#x27;,\n",
              "                                               RandomForestClassifier(n_estimators=500,\n",
              "                                                                      random_state=9)),\n",
              "                                              (&#x27;svc&#x27;,\n",
              "                                               SVC(kernel=&#x27;linear&#x27;,\n",
              "                                                   probability=True,\n",
              "                                                   random_state=9)),\n",
              "                                              (&#x27;knn&#x27;,\n",
              "                                               KNeighborsClassifier(n_neighbors=6)),\n",
              "                                              (&#x27;mlp&#x27;,\n",
              "                                               MLPClassifier(alpha=0.01,\n",
              "                                                             batch_size=256,\n",
              "                                                             hidden_layer_sizes=(700,),\n",
              "                                                             learning_rate=&#x27;adaptive&#x27;,\n",
              "                                                             max_iter=500,\n",
              "                                                             random_state=9))],\n",
              "                                  voting=&#x27;soft&#x27;))])</pre><b>In a Jupyter environment, please rerun this cell to show the HTML representation or trust the notebook. <br />On GitHub, the HTML representation is unable to render, please try loading this page with nbviewer.org.</b></div><div class=\"sk-container\" hidden><div class=\"sk-item sk-dashed-wrapped\"><div class=\"sk-label-container\"><div class=\"sk-label sk-toggleable\"><input class=\"sk-toggleable__control sk-hidden--visually\" id=\"sk-estimator-id-1\" type=\"checkbox\" ><label for=\"sk-estimator-id-1\" class=\"sk-toggleable__label sk-toggleable__label-arrow\">Pipeline</label><div class=\"sk-toggleable__content\"><pre>Pipeline(steps=[(&#x27;scaler&#x27;, StandardScaler()),\n",
              "                (&#x27;feature_selection&#x27;,\n",
              "                 RFE(estimator=RandomForestClassifier(),\n",
              "                     n_features_to_select=37)),\n",
              "                (&#x27;classifier&#x27;,\n",
              "                 VotingClassifier(estimators=[(&#x27;rf&#x27;,\n",
              "                                               RandomForestClassifier(n_estimators=500,\n",
              "                                                                      random_state=9)),\n",
              "                                              (&#x27;svc&#x27;,\n",
              "                                               SVC(kernel=&#x27;linear&#x27;,\n",
              "                                                   probability=True,\n",
              "                                                   random_state=9)),\n",
              "                                              (&#x27;knn&#x27;,\n",
              "                                               KNeighborsClassifier(n_neighbors=6)),\n",
              "                                              (&#x27;mlp&#x27;,\n",
              "                                               MLPClassifier(alpha=0.01,\n",
              "                                                             batch_size=256,\n",
              "                                                             hidden_layer_sizes=(700,),\n",
              "                                                             learning_rate=&#x27;adaptive&#x27;,\n",
              "                                                             max_iter=500,\n",
              "                                                             random_state=9))],\n",
              "                                  voting=&#x27;soft&#x27;))])</pre></div></div></div><div class=\"sk-serial\"><div class=\"sk-item\"><div class=\"sk-estimator sk-toggleable\"><input class=\"sk-toggleable__control sk-hidden--visually\" id=\"sk-estimator-id-2\" type=\"checkbox\" ><label for=\"sk-estimator-id-2\" class=\"sk-toggleable__label sk-toggleable__label-arrow\">StandardScaler</label><div class=\"sk-toggleable__content\"><pre>StandardScaler()</pre></div></div></div><div class=\"sk-item sk-dashed-wrapped\"><div class=\"sk-label-container\"><div class=\"sk-label sk-toggleable\"><input class=\"sk-toggleable__control sk-hidden--visually\" id=\"sk-estimator-id-3\" type=\"checkbox\" ><label for=\"sk-estimator-id-3\" class=\"sk-toggleable__label sk-toggleable__label-arrow\">feature_selection: RFE</label><div class=\"sk-toggleable__content\"><pre>RFE(estimator=RandomForestClassifier(), n_features_to_select=37)</pre></div></div></div><div class=\"sk-parallel\"><div class=\"sk-parallel-item\"><div class=\"sk-item\"><div class=\"sk-label-container\"><div class=\"sk-label sk-toggleable\"><input class=\"sk-toggleable__control sk-hidden--visually\" id=\"sk-estimator-id-4\" type=\"checkbox\" ><label for=\"sk-estimator-id-4\" class=\"sk-toggleable__label sk-toggleable__label-arrow\">estimator: RandomForestClassifier</label><div class=\"sk-toggleable__content\"><pre>RandomForestClassifier()</pre></div></div></div><div class=\"sk-serial\"><div class=\"sk-item\"><div class=\"sk-estimator sk-toggleable\"><input class=\"sk-toggleable__control sk-hidden--visually\" id=\"sk-estimator-id-5\" type=\"checkbox\" ><label for=\"sk-estimator-id-5\" class=\"sk-toggleable__label sk-toggleable__label-arrow\">RandomForestClassifier</label><div class=\"sk-toggleable__content\"><pre>RandomForestClassifier()</pre></div></div></div></div></div></div></div></div><div class=\"sk-item sk-dashed-wrapped\"><div class=\"sk-label-container\"><div class=\"sk-label sk-toggleable\"><input class=\"sk-toggleable__control sk-hidden--visually\" id=\"sk-estimator-id-6\" type=\"checkbox\" ><label for=\"sk-estimator-id-6\" class=\"sk-toggleable__label sk-toggleable__label-arrow\">classifier: VotingClassifier</label><div class=\"sk-toggleable__content\"><pre>VotingClassifier(estimators=[(&#x27;rf&#x27;,\n",
              "                              RandomForestClassifier(n_estimators=500,\n",
              "                                                     random_state=9)),\n",
              "                             (&#x27;svc&#x27;,\n",
              "                              SVC(kernel=&#x27;linear&#x27;, probability=True,\n",
              "                                  random_state=9)),\n",
              "                             (&#x27;knn&#x27;, KNeighborsClassifier(n_neighbors=6)),\n",
              "                             (&#x27;mlp&#x27;,\n",
              "                              MLPClassifier(alpha=0.01, batch_size=256,\n",
              "                                            hidden_layer_sizes=(700,),\n",
              "                                            learning_rate=&#x27;adaptive&#x27;,\n",
              "                                            max_iter=500, random_state=9))],\n",
              "                 voting=&#x27;soft&#x27;)</pre></div></div></div><div class=\"sk-parallel\"><div class=\"sk-parallel-item\"><div class=\"sk-item\"><div class=\"sk-label-container\"><div class=\"sk-label sk-toggleable\"><label>rf</label></div></div><div class=\"sk-serial\"><div class=\"sk-item\"><div class=\"sk-estimator sk-toggleable\"><input class=\"sk-toggleable__control sk-hidden--visually\" id=\"sk-estimator-id-7\" type=\"checkbox\" ><label for=\"sk-estimator-id-7\" class=\"sk-toggleable__label sk-toggleable__label-arrow\">RandomForestClassifier</label><div class=\"sk-toggleable__content\"><pre>RandomForestClassifier(n_estimators=500, random_state=9)</pre></div></div></div></div></div></div><div class=\"sk-parallel-item\"><div class=\"sk-item\"><div class=\"sk-label-container\"><div class=\"sk-label sk-toggleable\"><label>svc</label></div></div><div class=\"sk-serial\"><div class=\"sk-item\"><div class=\"sk-estimator sk-toggleable\"><input class=\"sk-toggleable__control sk-hidden--visually\" id=\"sk-estimator-id-8\" type=\"checkbox\" ><label for=\"sk-estimator-id-8\" class=\"sk-toggleable__label sk-toggleable__label-arrow\">SVC</label><div class=\"sk-toggleable__content\"><pre>SVC(kernel=&#x27;linear&#x27;, probability=True, random_state=9)</pre></div></div></div></div></div></div><div class=\"sk-parallel-item\"><div class=\"sk-item\"><div class=\"sk-label-container\"><div class=\"sk-label sk-toggleable\"><label>knn</label></div></div><div class=\"sk-serial\"><div class=\"sk-item\"><div class=\"sk-estimator sk-toggleable\"><input class=\"sk-toggleable__control sk-hidden--visually\" id=\"sk-estimator-id-9\" type=\"checkbox\" ><label for=\"sk-estimator-id-9\" class=\"sk-toggleable__label sk-toggleable__label-arrow\">KNeighborsClassifier</label><div class=\"sk-toggleable__content\"><pre>KNeighborsClassifier(n_neighbors=6)</pre></div></div></div></div></div></div><div class=\"sk-parallel-item\"><div class=\"sk-item\"><div class=\"sk-label-container\"><div class=\"sk-label sk-toggleable\"><label>mlp</label></div></div><div class=\"sk-serial\"><div class=\"sk-item\"><div class=\"sk-estimator sk-toggleable\"><input class=\"sk-toggleable__control sk-hidden--visually\" id=\"sk-estimator-id-10\" type=\"checkbox\" ><label for=\"sk-estimator-id-10\" class=\"sk-toggleable__label sk-toggleable__label-arrow\">MLPClassifier</label><div class=\"sk-toggleable__content\"><pre>MLPClassifier(alpha=0.01, batch_size=256, hidden_layer_sizes=(700,),\n",
              "              learning_rate=&#x27;adaptive&#x27;, max_iter=500, random_state=9)</pre></div></div></div></div></div></div></div></div></div></div></div></div>"
            ]
          },
          "metadata": {},
          "execution_count": 9
        }
      ]
    },
    {
      "cell_type": "markdown",
      "source": [
        "###**Prediction Function for classification**"
      ],
      "metadata": {
        "id": "i6yWc1P6CobT"
      }
    },
    {
      "cell_type": "code",
      "source": [
        "# Define a function to predict emotion for a given audio file\n",
        "\n",
        "def predict_emotion(file_path):\n",
        "  feature = extract_feature(file_path, mfcc=True, pitch=True, rms=True)\n",
        "  if feature is not None:\n",
        "    # make prediction using the trained model\n",
        "    return pipeline.predict(feature.reshape(1, -1))[0]\n",
        "  else:\n",
        "    return None"
      ],
      "metadata": {
        "id": "5twBeDsVlhAj"
      },
      "execution_count": null,
      "outputs": []
    },
    {
      "cell_type": "markdown",
      "source": [
        "###**Loading of TESS Dataset for classifying and calculating the performance of the ENSEMBLE model**"
      ],
      "metadata": {
        "id": "jZ4A-LN7CwDq"
      }
    },
    {
      "cell_type": "code",
      "source": [
        "# Path to the directory containing the audio files\n",
        "audio_dir = '/content/drive/MyDrive/Dataset_Speech_Emotion_Recognition/test_files6'\n",
        "\n",
        "# Create an empty list to store the predicted and true labels\n",
        "predicted_labels = []\n",
        "true_labels = []\n",
        "\n",
        "# Get a list of all the WAV files in the directory\n",
        "test_files = [os.path.join(audio_dir, file) for file in os.listdir(audio_dir) if file.endswith('.wav')]\n",
        "\n",
        "# Define a dictionary to keep track of the number of correctly predicted emotions\n",
        "correct_emotions = {'angry': 0, 'fearful': 0, 'surprised': 0, 'sad': 0}\n",
        "\n",
        "# Iterate through each file and predict the emotion\n",
        "for file_path in test_files:\n",
        "    # Get the filename without the extension\n",
        "    filename = os.path.splitext(os.path.basename(file_path))[0]\n",
        "    # Extract the emotion label from the filename\n",
        "    if filename.endswith('angry'):\n",
        "        label = 'angry'\n",
        "    elif filename.endswith('fear'):\n",
        "        label = 'fearful'\n",
        "    elif filename.endswith('ps'):\n",
        "        label = 'surprised'\n",
        "    elif filename.endswith('sad'):\n",
        "        label = 'sad'\n",
        "    else:\n",
        "        label = None\n",
        "    # Predict the emotion from the audio file\n",
        "    emotion = predict_emotion(file_path)\n",
        "    if emotion is not None and label is not None:\n",
        "\n",
        "      # Append the predicted and true labels to the lists\n",
        "      predicted_labels.append(emotion)\n",
        "      true_labels.append(label)\n",
        "\n",
        "      # Increment the count for the predicted emotion if it matches the label\n",
        "      if emotion == label:\n",
        "        correct_emotions[emotion] += 1\n",
        "      print(f'Test file: {filename} -> Predicted Emotion: {emotion}')\n",
        "    else:\n",
        "        print(f'Error: Failed to extract features from {file_path}')\n",
        "\n",
        "# Calculate the accuracy score\n",
        "num_files = len(test_files)\n",
        "accuracy = sum(correct_emotions.values()) / num_files * 100\n",
        "print(f'Accuracy: {accuracy:.2f}%')\n",
        "print('Number of correct predictions per class:')\n",
        "for emotion, count in correct_emotions.items():\n",
        "    print(f'{emotion.capitalize()}: {count}')\n"
      ],
      "metadata": {
        "colab": {
          "base_uri": "https://localhost:8080/"
        },
        "id": "af1me1WlUsMO",
        "outputId": "0343aab9-8c31-4314-9d55-87c5743f3e1a"
      },
      "execution_count": null,
      "outputs": [
        {
          "output_type": "stream",
          "name": "stdout",
          "text": [
            "Test file: OAF_beg_fear -> Predicted Emotion: fearful\n",
            "Test file: OAF_back_fear -> Predicted Emotion: fearful\n",
            "Test file: OAF_chain_fear -> Predicted Emotion: fearful\n",
            "Test file: OAF_bite_fear -> Predicted Emotion: fearful\n",
            "Test file: OAF_came_fear -> Predicted Emotion: fearful\n",
            "Test file: OAF_deep_fear -> Predicted Emotion: fearful\n",
            "Test file: OAF_get_fear -> Predicted Emotion: fearful\n",
            "Test file: OAF_gaze_fear -> Predicted Emotion: fearful\n",
            "Test file: OAF_kite_fear -> Predicted Emotion: fearful\n",
            "Test file: OAF_hit_fear -> Predicted Emotion: fearful\n",
            "Test file: OAF_kill_fear -> Predicted Emotion: fearful\n",
            "Test file: OAF_hire_fear -> Predicted Emotion: surprised\n",
            "Test file: OAF_jug_fear -> Predicted Emotion: surprised\n",
            "Test file: OAF_juice_fear -> Predicted Emotion: fearful\n",
            "Test file: OAF_match_fear -> Predicted Emotion: fearful\n",
            "Test file: OAF_live_fear -> Predicted Emotion: surprised\n",
            "Test file: OAF_life_fear -> Predicted Emotion: surprised\n",
            "Test file: OAF_merge_fear -> Predicted Emotion: surprised\n",
            "Test file: OAF_lease_fear -> Predicted Emotion: fearful\n",
            "Test file: OAF_mess_fear -> Predicted Emotion: fearful\n",
            "Test file: OAF_numb_fear -> Predicted Emotion: surprised\n",
            "Test file: OAF_nice_fear -> Predicted Emotion: fearful\n",
            "Test file: OAF_pick_fear -> Predicted Emotion: fearful\n",
            "Test file: OAF_neat_fear -> Predicted Emotion: fearful\n",
            "Test file: OAF_said_fear -> Predicted Emotion: fearful\n",
            "Test file: OAF_red_fear -> Predicted Emotion: fearful\n",
            "Test file: OAF_read_fear -> Predicted Emotion: surprised\n",
            "Test file: OAF_voice_fear -> Predicted Emotion: fearful\n",
            "Test file: OAF_thought_fear -> Predicted Emotion: surprised\n",
            "Test file: OAF_wash_fear -> Predicted Emotion: fearful\n",
            "Test file: OAF_back_ps -> Predicted Emotion: surprised\n",
            "Test file: OAF_bath_ps -> Predicted Emotion: surprised\n",
            "Test file: OAF_beg_ps -> Predicted Emotion: fearful\n",
            "Test file: OAF_came_ps -> Predicted Emotion: surprised\n",
            "Test file: OAF_chair_ps -> Predicted Emotion: surprised\n",
            "Test file: OAF_deep_ps -> Predicted Emotion: surprised\n",
            "Test file: OAF_chalk_ps -> Predicted Emotion: surprised\n",
            "Test file: OAF_dime_ps -> Predicted Emotion: surprised\n",
            "Test file: OAF_five_ps -> Predicted Emotion: surprised\n",
            "Test file: OAF_goal_ps -> Predicted Emotion: surprised\n",
            "Test file: OAF_food_ps -> Predicted Emotion: surprised\n",
            "Test file: OAF_lean_ps -> Predicted Emotion: sad\n",
            "Test file: OAF_lease_ps -> Predicted Emotion: fearful\n",
            "Test file: OAF_make_ps -> Predicted Emotion: sad\n",
            "Test file: OAF_learn_ps -> Predicted Emotion: surprised\n",
            "Test file: OAF_numb_ps -> Predicted Emotion: surprised\n",
            "Test file: OAF_neat_ps -> Predicted Emotion: sad\n",
            "Test file: OAF_moon_ps -> Predicted Emotion: surprised\n",
            "Test file: OAF_pike_ps -> Predicted Emotion: fearful\n",
            "Test file: OAF_pick_ps -> Predicted Emotion: fearful\n",
            "Test file: OAF_perch_ps -> Predicted Emotion: sad\n",
            "Test file: OAF_note_ps -> Predicted Emotion: surprised\n",
            "Test file: OAF_mouse_ps -> Predicted Emotion: surprised\n",
            "Test file: OAF_merge_ps -> Predicted Emotion: surprised\n",
            "Test file: OAF_mob_ps -> Predicted Emotion: surprised\n",
            "Test file: OAF_reach_ps -> Predicted Emotion: sad\n",
            "Test file: OAF_rose_ps -> Predicted Emotion: surprised\n",
            "Test file: OAF_road_ps -> Predicted Emotion: surprised\n",
            "Test file: OAF_raise_ps -> Predicted Emotion: sad\n",
            "Test file: OAF_yearn_ps -> Predicted Emotion: sad\n",
            "Test file: OAF_bath_sad -> Predicted Emotion: sad\n",
            "Test file: OAF_boat_sad -> Predicted Emotion: sad\n",
            "Test file: OAF_beg_sad -> Predicted Emotion: sad\n",
            "Test file: OAF_bar_sad -> Predicted Emotion: sad\n",
            "Test file: OAF_far_sad -> Predicted Emotion: sad\n",
            "Test file: OAF_chalk_sad -> Predicted Emotion: sad\n",
            "Test file: OAF_death_sad -> Predicted Emotion: sad\n",
            "Test file: OAF_chat_sad -> Predicted Emotion: fearful\n",
            "Test file: OAF_ditch_sad -> Predicted Emotion: sad\n",
            "Test file: OAF_doll_sad -> Predicted Emotion: sad\n",
            "Test file: OAF_five_sad -> Predicted Emotion: sad\n",
            "Test file: OAF_hush_sad -> Predicted Emotion: sad\n",
            "Test file: OAF_gin_sad -> Predicted Emotion: sad\n",
            "Test file: OAF_good_sad -> Predicted Emotion: sad\n",
            "Test file: OAF_hurl_sad -> Predicted Emotion: sad\n",
            "Test file: OAF_hit_sad -> Predicted Emotion: sad\n",
            "Test file: OAF_haze_sad -> Predicted Emotion: sad\n",
            "Test file: OAF_get_sad -> Predicted Emotion: sad\n",
            "Test file: OAF_goose_sad -> Predicted Emotion: sad\n",
            "Test file: OAF_lean_sad -> Predicted Emotion: sad\n",
            "Test file: OAF_keep_sad -> Predicted Emotion: sad\n",
            "Test file: OAF_laud_sad -> Predicted Emotion: sad\n",
            "Test file: OAF_keen_sad -> Predicted Emotion: sad\n",
            "Test file: OAF_pass_sad -> Predicted Emotion: sad\n",
            "Test file: OAF_name_sad -> Predicted Emotion: sad\n",
            "Test file: OAF_raid_sad -> Predicted Emotion: sad\n",
            "Test file: OAF_tell_sad -> Predicted Emotion: sad\n",
            "Test file: OAF_tape_sad -> Predicted Emotion: sad\n",
            "Test file: OAF_shawl_sad -> Predicted Emotion: sad\n",
            "Test file: OAF_young_sad -> Predicted Emotion: sad\n",
            "Test file: YAF_back_angry -> Predicted Emotion: angry\n",
            "Test file: YAF_chair_angry -> Predicted Emotion: angry\n",
            "Test file: YAF_chalk_angry -> Predicted Emotion: angry\n",
            "Test file: YAF_fall_angry -> Predicted Emotion: angry\n",
            "Test file: YAF_door_angry -> Predicted Emotion: angry\n",
            "Test file: YAF_have_angry -> Predicted Emotion: angry\n",
            "Test file: YAF_jail_angry -> Predicted Emotion: angry\n",
            "Test file: YAF_haze_angry -> Predicted Emotion: angry\n",
            "Test file: YAF_get_angry -> Predicted Emotion: angry\n",
            "Test file: YAF_gas_angry -> Predicted Emotion: angry\n",
            "Test file: YAF_gaze_angry -> Predicted Emotion: angry\n",
            "Test file: YAF_hire_angry -> Predicted Emotion: angry\n",
            "Test file: YAF_keen_angry -> Predicted Emotion: angry\n",
            "Test file: YAF_lease_angry -> Predicted Emotion: angry\n",
            "Test file: YAF_kill_angry -> Predicted Emotion: angry\n",
            "Test file: YAF_jug_angry -> Predicted Emotion: angry\n",
            "Test file: YAF_mode_angry -> Predicted Emotion: angry\n",
            "Test file: YAF_merge_angry -> Predicted Emotion: angry\n",
            "Test file: YAF_perch_angry -> Predicted Emotion: angry\n",
            "Test file: YAF_pain_angry -> Predicted Emotion: fearful\n",
            "Test file: YAF_mill_angry -> Predicted Emotion: angry\n",
            "Test file: YAF_neat_angry -> Predicted Emotion: angry\n",
            "Test file: YAF_near_angry -> Predicted Emotion: angry\n",
            "Test file: YAF_rat_angry -> Predicted Emotion: angry\n",
            "Test file: YAF_raid_angry -> Predicted Emotion: angry\n",
            "Test file: YAF_sheep_angry -> Predicted Emotion: angry\n",
            "Test file: YAF_talk_angry -> Predicted Emotion: angry\n",
            "Test file: YAF_witch_angry -> Predicted Emotion: angry\n",
            "Test file: YAF_voice_angry -> Predicted Emotion: fearful\n",
            "Test file: YAF_youth_angry -> Predicted Emotion: angry\n",
            "Accuracy: 81.67%\n",
            "Number of correct predictions per class:\n",
            "Angry: 28\n",
            "Fearful: 22\n",
            "Surprised: 19\n",
            "Sad: 29\n"
          ]
        }
      ]
    },
    {
      "cell_type": "markdown",
      "source": [
        "###**Confusion Matrix for above testing**"
      ],
      "metadata": {
        "id": "lrp5M5TYDYT1"
      }
    },
    {
      "cell_type": "code",
      "source": [
        "observed_emotions = ['angry', 'fearful', 'sad', 'surprised']\n",
        "\n",
        "# Create a confusion matrix\n",
        "confusion = confusion_matrix(true_labels, predicted_labels)\n",
        "plt.figure(figsize=(6, 4))\n",
        "sns.heatmap(confusion, annot=True, cmap='Reds', xticklabels=observed_emotions, yticklabels=observed_emotions)\n",
        "plt.xlabel('Predicted Emotions')\n",
        "plt.ylabel('True Emotions')\n",
        "plt.title('Confusion Matrix')\n",
        "plt.show()\n"
      ],
      "metadata": {
        "id": "PvNAJYVcyQXc",
        "colab": {
          "base_uri": "https://localhost:8080/",
          "height": 410
        },
        "outputId": "aefc92ff-dbd8-47d6-bf46-4651a9dcfab2"
      },
      "execution_count": null,
      "outputs": [
        {
          "output_type": "display_data",
          "data": {
            "text/plain": [
              "<Figure size 600x400 with 2 Axes>"
            ],
            "image/png": "[encoded data removed]"
          },
          "metadata": {}
        }
      ]
    },
    {
      "cell_type": "markdown",
      "source": [
        "###**Graph for showing accuracy per emotion**"
      ],
      "metadata": {
        "id": "k-oVQUyfDkzX"
      }
    },
    {
      "cell_type": "code",
      "source": [
        "from collections import Counter\n",
        "\n",
        "# Calculate the count of each emotion in the dataset\n",
        "emotion_counts = dict(Counter(y))\n",
        "\n",
        "# Calculate accuracy for each emotion\n",
        "accuracy_per_emotion = {emotion: correct_emotions[emotion] / emotion_counts[emotion] * 100 for emotion in observed_emotions}\n",
        "\n",
        "# Plot accuracy per emotion\n",
        "plt.bar(accuracy_per_emotion.keys(), accuracy_per_emotion.values())\n",
        "plt.xlabel('Emotions')\n",
        "plt.ylabel('Accuracy (%)')\n",
        "plt.title('Accuracy per Emotion')\n",
        "plt.ylim([0, 50])\n",
        "plt.show()\n"
      ],
      "metadata": {
        "colab": {
          "base_uri": "https://localhost:8080/",
          "height": 472
        },
        "id": "470fXCaC6TaY",
        "outputId": "447a6913-c716-42f1-acfb-6bc60b67a56a"
      },
      "execution_count": null,
      "outputs": [
        {
          "output_type": "display_data",
          "data": {
            "text/plain": [
              "<Figure size 640x480 with 1 Axes>"
            ],
            "image/png": "[encoded data removed]"
          },
          "metadata": {}
        }
      ]
    }
  ]
}
